{
 "cells": [
  {
   "cell_type": "markdown",
   "id": "fd524e83",
   "metadata": {},
   "source": [
    "## Python Code 1: Extract Strings from EXE\n",
    "\n",
    "In this step I wrote a Python script to **scan the EXE file**.  \n",
    "The goal was to **find hidden text** inside the binary file.\n",
    "\n",
    "\n",
    "1. Open the file `Test.exe` in **binary mode**.  \n",
    "2. Extract **ASCII strings** and **UTF-16 strings**.  \n",
    "3. Filter results with **keywords** like \"SystemCode\", \"Register\", \"License\".  \n",
    "4. Also search for **key formats** (like XXXX-XXXX-XXXX).  \n",
    "5. Save all results to:\n",
    "   - `all_strings.txt` → all strings  \n",
    "   - `hits.txt` → only the suspicious ones  \n",
    "\n",
    "\n",
    "- It helps me see what kind of text the program keeps inside.  \n",
    "- Some of these strings can show **how registration works**.  \n"
   ]
  },
  {
   "cell_type": "code",
   "execution_count": null,
   "id": "cf3035c7",
   "metadata": {},
   "outputs": [
    {
     "name": "stdout",
     "output_type": "stream",
     "text": [
      "完成掃描！共找到 2045 筆字串\n",
      "全部字串輸出到 all_strings.txt\n",
      "可疑字串輸出到 hits.txt\n"
     ]
    }
   ],
   "source": [
    "import re\n",
    "\n",
    "file_path = \"Test.exe\"\n",
    "\n",
    "def extract_ascii_strings(data, min_len=4):\n",
    "    result, buf, pos, start = [], [], [], None\n",
    "    for i, b in enumerate(data):\n",
    "        if 32 <= b <= 126:\n",
    "            if start is None:\n",
    "                start = i\n",
    "            buf.append(chr(b))\n",
    "        else:\n",
    "            if len(buf) >= min_len:\n",
    "                result.append((start, \"\".join(buf)))\n",
    "            buf, start = [], None\n",
    "    if len(buf) >= min_len:\n",
    "        result.append((start, \"\".join(buf)))\n",
    "    return result\n",
    "\n",
    "def extract_utf16le_strings(data, min_len=4):\n",
    "    result, buf, start = [], [], None\n",
    "    for i in range(0, len(data)-1, 2):\n",
    "        lo, hi = data[i], data[i+1]\n",
    "        if hi == 0 and 32 <= lo <= 126:\n",
    "            if start is None:\n",
    "                start = i\n",
    "            buf.append(chr(lo))\n",
    "        else:\n",
    "            if len(buf) >= min_len:\n",
    "                result.append((start, \"\".join(buf)))\n",
    "            buf, start = [], None\n",
    "    if len(buf) >= min_len:\n",
    "        result.append((start, \"\".join(buf)))\n",
    "    return result\n",
    "\n",
    "# 載入檔案\n",
    "with open(file_path, \"rb\") as f:\n",
    "    data = f.read()\n",
    "\n",
    "ascii_strs = extract_ascii_strings(data)\n",
    "utf16_strs = extract_utf16le_strings(data)\n",
    "\n",
    "all_strs = ascii_strs + utf16_strs\n",
    "\n",
    "# 關鍵字過濾 \n",
    "keywords = [\n",
    "    \"SystemCode\",\"SysCode\",\"SystemID\",\"MachineID\",\"HWID\",\n",
    "    \"License\",\"Licence\",\"LicenseKey\",\"ProductKey\",\"Serial\",\"Activation\",\n",
    "    \"Register\",\"Key\",\"RegCode\",\"AuthCode\",\"AppKey\",\"Token\",\"Code\",\n",
    "    \"系統碼\",\"序號\",\"註冊\",\"激活\",\"授權\",\"系統代碼\",\"序列號\"\n",
    "]\n",
    "\n",
    "hits = []\n",
    "for offset, s in all_strs:\n",
    "    for k in keywords:\n",
    "        if k.lower() in s.lower():\n",
    "            hits.append((offset, s))\n",
    "            break\n",
    "\n",
    "# 疑似金鑰格式\n",
    "pattern = re.compile(r\"[A-Z0-9]{4,6}(?:-[A-Z0-9]{4,6}){2,6}\")\n",
    "for offset, s in all_strs:\n",
    "    for m in pattern.findall(s):\n",
    "        hits.append((offset, m))\n",
    "\n",
    "# 去重\n",
    "hits = sorted(set(hits), key=lambda x: x[0])\n",
    "\n",
    "# 輸出 \n",
    "with open(\"all_strings.txt\", \"w\", encoding=\"utf-8\") as f:\n",
    "    for offset, s in all_strs:\n",
    "        f.write(f\"[0x{offset:08X}] {s}\\n\")\n",
    "\n",
    "with open(\"hits.txt\", \"w\", encoding=\"utf-8\") as f:\n",
    "    for offset, s in hits:\n",
    "        f.write(f\"[0x{offset:08X}] {s}\\n\")\n",
    "\n",
    "print(f\"完成掃描！共找到 {len(all_strs)} 筆字串\")\n",
    "print(f\"全部字串輸出到 all_strings.txt\")\n",
    "print(f\"可疑字串輸出到 hits.txt\")\n"
   ]
  },
  {
   "cell_type": "markdown",
   "id": "a37ae26f",
   "metadata": {},
   "source": [
    "## Python Code 2: Get CPU Information\n",
    "\n",
    "In this step I used Python with the **wmi** library.  \n",
    "The goal was to read the **CPU system code** from Windows.\n",
    "\n",
    "### What the code does\n",
    "1. Connect to Windows WMI.  \n",
    "2. Get information from `Win32_Processor`.  \n",
    "3. Print:\n",
    "   - `DeviceID`\n",
    "   - `ProcessorId`\n",
    "   - `Name`\n",
    "\n",
    "### Why this is useful\n",
    "- The program uses the **ProcessorId** to build the **system code**.  \n",
    "- With this script I can check what value my computer gives.  \n",
    "- It also helps in a simple **security risk check**,  \n",
    "  because if the code only depends on CPU ID, it may be weak.  \n"
   ]
  },
  {
   "cell_type": "code",
   "execution_count": 3,
   "id": "4491fa6b",
   "metadata": {},
   "outputs": [
    {
     "name": "stdout",
     "output_type": "stream",
     "text": [
      "DeviceID: CPU0\n",
      "ProcessorId: BFEBFBFF000806D1\n",
      "Name: 11th Gen Intel(R) Core(TM) i7-11800H @ 2.30GHz\n"
     ]
    }
   ],
   "source": [
    "import wmi\n",
    "\n",
    "c = wmi.WMI()\n",
    "for cpu in c.Win32_Processor():\n",
    "    print(\"DeviceID:\", cpu.DeviceID)\n",
    "    print(\"ProcessorId:\", cpu.ProcessorId)\n",
    "    print(\"Name:\", cpu.Name)\n"
   ]
  },
  {
   "cell_type": "markdown",
   "id": "f560443c",
   "metadata": {},
   "source": [
    "## Python Code 3: Write Registry Key\n",
    "\n",
    "In this step I used Python with the **winreg** library.  \n",
    "The goal was to test how the program saves the **registration status**.\n",
    "\n",
    "### What the code does\n",
    "1. Open (or create) the key:  \n",
    "   `HKEY_CURRENT_USER\\Software\\BES_Report`  \n",
    "2. Set the value `RegStatus` to `\"1\"`.  \n",
    "3. Close the key and print a message.\n",
    "\n",
    "### Why this is useful\n",
    "- The program checks this key to see if it is registered.  \n",
    "- By setting it to `\"1\"`, I can simulate a **registered state**.  \n",
    "- This is part of the test to learn how the software works.  \n"
   ]
  },
  {
   "cell_type": "code",
   "execution_count": 4,
   "id": "c7fa8c53",
   "metadata": {},
   "outputs": [
    {
     "name": "stdout",
     "output_type": "stream",
     "text": [
      "RegStatus 已設為 1\n"
     ]
    }
   ],
   "source": [
    "import winreg\n",
    "\n",
    "key = winreg.CreateKey(winreg.HKEY_CURRENT_USER, r\"Software\\BES_Report\")\n",
    "winreg.SetValueEx(key, \"RegStatus\", 0, winreg.REG_SZ, \"1\")\n",
    "winreg.CloseKey(key)\n",
    "print(\"RegStatus 已設為 1\")\n"
   ]
  },
  {
   "cell_type": "code",
   "execution_count": null,
   "id": "b97420c7",
   "metadata": {},
   "outputs": [],
   "source": []
  }
 ],
 "metadata": {
  "kernelspec": {
   "display_name": "lgbgpu",
   "language": "python",
   "name": "python3"
  },
  "language_info": {
   "codemirror_mode": {
    "name": "ipython",
    "version": 3
   },
   "file_extension": ".py",
   "mimetype": "text/x-python",
   "name": "python",
   "nbconvert_exporter": "python",
   "pygments_lexer": "ipython3",
   "version": "3.10.18"
  }
 },
 "nbformat": 4,
 "nbformat_minor": 5
}
